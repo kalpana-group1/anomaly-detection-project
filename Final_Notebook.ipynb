{
 "cells": [
  {
   "cell_type": "markdown",
   "id": "ad7b2bc0",
   "metadata": {},
   "source": [
    "# Group one: Anomoly Detection Project \n",
    "\n",
    "By: Brad Gauvin, Glady Barrios, Kevin Smith \n",
    "\n",
    "August, 25, 2022\n",
    "\n",
    "Kalpana Cohort"
   ]
  },
  {
   "cell_type": "markdown",
   "id": "56862f88",
   "metadata": {},
   "source": [
    "#### Important Libraries "
   ]
  },
  {
   "cell_type": "code",
   "execution_count": 1,
   "id": "2997ebaa",
   "metadata": {},
   "outputs": [],
   "source": [
    "import matplotlib.pyplot as plt\n",
    "import numpy as np\n",
    "import pandas as pd\n",
    "import seaborn as sns\n",
    "from sklearn import metrics\n",
    "import env\n",
    "import prep"
   ]
  },
  {
   "cell_type": "markdown",
   "id": "a157c32b",
   "metadata": {},
   "source": [
    "## Project Description "
   ]
  },
  {
   "cell_type": "markdown",
   "id": "b8837e97",
   "metadata": {},
   "source": [
    "We have put this notebook to answer the following email:\n",
    "\n",
    "Email to analyst:\n",
    "\n",
    "\n",
    "#### Hello,\n",
    "\n",
    "\n",
    "#### I have some questions for you that I need answered before the board meeting Thursday afternoon. My questions are listed below; however, if you discover anything else important that I didn’t think to ask, please include that as well.\n",
    "\n",
    "1. Which lesson appears to attract the most traffic consistently across cohorts (per program)?\n",
    "2. Is there a cohort that referred to a lesson significantly more than other cohorts seemed to gloss over?\n",
    "3. Are there students who, when active, hardly access the curriculum? If so, what information do you have about these students?\n",
    "4. Is there any suspicious activity, such as users/machines/etc accessing the curriculum who shouldn’t be? Does it appear that any web-scraping is happening? Are there any suspicious IP addresses?\n",
    "5. At some point in 2019, the ability for students and alumni to access both curriculums (web dev to ds, ds to web dev) should have been shut off. Do you see any evidence of that happening? Did it happen before?\n",
    "6. What topics are grads continuing to reference after graduation and into their jobs (for each program)?\n",
    "7. Which lessons are least accessed?\n",
    "8. Anything else I should be aware of?\n"
   ]
  },
  {
   "cell_type": "markdown",
   "id": "08b03674",
   "metadata": {},
   "source": [
    "## Project Goal "
   ]
  },
  {
   "cell_type": "markdown",
   "id": "23c5cdbe",
   "metadata": {},
   "source": [
    "Our project goal is to answer at least five of the questions asked in this email before our deadline so that our representive will have this data avalible in a timely manner. "
   ]
  },
  {
   "cell_type": "markdown",
   "id": "805bac87",
   "metadata": {},
   "source": [
    "## Executive Summary "
   ]
  },
  {
   "cell_type": "markdown",
   "id": "00462707",
   "metadata": {},
   "source": [
    "1. Which lesson appears to attract the most traffic consistently across cohorts (per program)?\n",
    " - Data Science frequents Fundamentals\n",
    "  - Full stack - Java Script 1 \n",
    "\n",
    "2. Is there a cohort that referred to a lesson significantly more than other cohorts seemed to gloss over?\n",
    "\n",
    "\n",
    "3. Are there students who, when active, hardly access the curriculum? If so, what information do you have about these students?\n",
    "For this question we assummed that \"active students\" means students who are currenly students and not \"alumni\".\n",
    "This is an exploration of the students who only access the curriculm less than 10 times \n",
    "\n",
    " - Students who access the curriculum less than 10 times are all from Full Stack - Java Script\n",
    " - These are students in cohorts: Voyageurs, Andromeda, Europa, Ganymede, Hyperion, Jupiter, Marco, Neptune and Oberon.\n",
    " - These two cohorts with the largest ammount of students that do not visit the curriculum as often are Andromeda and Hyperion \n",
    "\n",
    "4. Is there any suspicious activity, such as users/machines/etc accessing the curriculum who shouldn’t be? Does it appear that any web-scraping is happening? Are there any suspicious IP addresses?\n",
    "\n",
    "\n",
    "5. At some point in 2019, the ability for students and alumni to access both curriculums (web dev to ds, ds to web dev) should have been shut off. Do you see any evidence of that happening? Did it happen before?\n",
    "\n",
    "\n",
    "6. What topics are grads continuing to reference after graduation and into their jobs (for each program)?\n",
    "- Full Stack Java- spring, javascript-i, html-css, mysql\n",
    "- Full Stack PHP - Content, javascript-i, html -css, spring\n",
    "- Data science- classification, fundimentals, sql, python\n",
    "\n",
    "7. Which lessons are least accessed?\n",
    "\n",
    "\n",
    "8. Anything else I should be aware of?"
   ]
  },
  {
   "cell_type": "markdown",
   "id": "f97ea5e3",
   "metadata": {},
   "source": [
    "# Aquire and Prepare"
   ]
  },
  {
   "cell_type": "markdown",
   "id": "868aefae",
   "metadata": {},
   "source": [
    "Aquire"
   ]
  },
  {
   "cell_type": "code",
   "execution_count": 2,
   "id": "b579c575",
   "metadata": {},
   "outputs": [],
   "source": [
    "df=prep.acquire()"
   ]
  },
  {
   "cell_type": "markdown",
   "id": "a47de063",
   "metadata": {},
   "source": [
    "Prepare"
   ]
  },
  {
   "cell_type": "code",
   "execution_count": 3,
   "id": "941f2109",
   "metadata": {},
   "outputs": [],
   "source": [
    "df = prep.prepare_data(df)"
   ]
  },
  {
   "cell_type": "code",
   "execution_count": 5,
   "id": "946f03a0",
   "metadata": {},
   "outputs": [],
   "source": [
    "# Split end point into pages and subpages (query)\n",
    "df['endpoint']=df['endpoint'].astype(str)\n",
    "df = pd.concat([df,  df.endpoint.apply(prep.parse_request)], axis=1)"
   ]
  },
  {
   "cell_type": "code",
   "execution_count": 6,
   "id": "8ac8e3e9",
   "metadata": {},
   "outputs": [
    {
     "data": {
      "text/html": [
       "<div>\n",
       "<style scoped>\n",
       "    .dataframe tbody tr th:only-of-type {\n",
       "        vertical-align: middle;\n",
       "    }\n",
       "\n",
       "    .dataframe tbody tr th {\n",
       "        vertical-align: top;\n",
       "    }\n",
       "\n",
       "    .dataframe thead th {\n",
       "        text-align: right;\n",
       "    }\n",
       "</style>\n",
       "<table border=\"1\" class=\"dataframe\">\n",
       "  <thead>\n",
       "    <tr style=\"text-align: right;\">\n",
       "      <th></th>\n",
       "      <th>endpoint</th>\n",
       "      <th>user_id</th>\n",
       "      <th>cohort_id</th>\n",
       "      <th>ip</th>\n",
       "      <th>cohort</th>\n",
       "      <th>slack</th>\n",
       "      <th>start_date</th>\n",
       "      <th>end_date</th>\n",
       "      <th>created_at</th>\n",
       "      <th>updated_at</th>\n",
       "      <th>program_id</th>\n",
       "      <th>program</th>\n",
       "      <th>role</th>\n",
       "      <th>alumni</th>\n",
       "      <th>page</th>\n",
       "      <th>query</th>\n",
       "    </tr>\n",
       "    <tr>\n",
       "      <th>datetime</th>\n",
       "      <th></th>\n",
       "      <th></th>\n",
       "      <th></th>\n",
       "      <th></th>\n",
       "      <th></th>\n",
       "      <th></th>\n",
       "      <th></th>\n",
       "      <th></th>\n",
       "      <th></th>\n",
       "      <th></th>\n",
       "      <th></th>\n",
       "      <th></th>\n",
       "      <th></th>\n",
       "      <th></th>\n",
       "      <th></th>\n",
       "      <th></th>\n",
       "    </tr>\n",
       "  </thead>\n",
       "  <tbody>\n",
       "    <tr>\n",
       "      <th>2018-01-26 09:55:03</th>\n",
       "      <td>/</td>\n",
       "      <td>1</td>\n",
       "      <td>8.0</td>\n",
       "      <td>97.105.19.61</td>\n",
       "      <td>Hampton</td>\n",
       "      <td>#hampton</td>\n",
       "      <td>2015-09-22</td>\n",
       "      <td>2016-02-06</td>\n",
       "      <td>2016-06-14 19:52:26</td>\n",
       "      <td>2016-06-14 19:52:26</td>\n",
       "      <td>1.0</td>\n",
       "      <td>Full Stack PHP</td>\n",
       "      <td>student</td>\n",
       "      <td>alumn</td>\n",
       "      <td></td>\n",
       "      <td></td>\n",
       "    </tr>\n",
       "    <tr>\n",
       "      <th>2018-01-26 09:56:02</th>\n",
       "      <td>java-ii</td>\n",
       "      <td>1</td>\n",
       "      <td>8.0</td>\n",
       "      <td>97.105.19.61</td>\n",
       "      <td>Hampton</td>\n",
       "      <td>#hampton</td>\n",
       "      <td>2015-09-22</td>\n",
       "      <td>2016-02-06</td>\n",
       "      <td>2016-06-14 19:52:26</td>\n",
       "      <td>2016-06-14 19:52:26</td>\n",
       "      <td>1.0</td>\n",
       "      <td>Full Stack PHP</td>\n",
       "      <td>student</td>\n",
       "      <td>alumn</td>\n",
       "      <td>java-ii</td>\n",
       "      <td></td>\n",
       "    </tr>\n",
       "    <tr>\n",
       "      <th>2018-01-26 09:56:05</th>\n",
       "      <td>java-ii/object-oriented-programming</td>\n",
       "      <td>1</td>\n",
       "      <td>8.0</td>\n",
       "      <td>97.105.19.61</td>\n",
       "      <td>Hampton</td>\n",
       "      <td>#hampton</td>\n",
       "      <td>2015-09-22</td>\n",
       "      <td>2016-02-06</td>\n",
       "      <td>2016-06-14 19:52:26</td>\n",
       "      <td>2016-06-14 19:52:26</td>\n",
       "      <td>1.0</td>\n",
       "      <td>Full Stack PHP</td>\n",
       "      <td>student</td>\n",
       "      <td>alumn</td>\n",
       "      <td>java-ii</td>\n",
       "      <td>object-oriented-programming</td>\n",
       "    </tr>\n",
       "  </tbody>\n",
       "</table>\n",
       "</div>"
      ],
      "text/plain": [
       "                                                endpoint  user_id  cohort_id  \\\n",
       "datetime                                                                       \n",
       "2018-01-26 09:55:03                                    /        1        8.0   \n",
       "2018-01-26 09:56:02                              java-ii        1        8.0   \n",
       "2018-01-26 09:56:05  java-ii/object-oriented-programming        1        8.0   \n",
       "\n",
       "                               ip   cohort     slack start_date   end_date  \\\n",
       "datetime                                                                     \n",
       "2018-01-26 09:55:03  97.105.19.61  Hampton  #hampton 2015-09-22 2016-02-06   \n",
       "2018-01-26 09:56:02  97.105.19.61  Hampton  #hampton 2015-09-22 2016-02-06   \n",
       "2018-01-26 09:56:05  97.105.19.61  Hampton  #hampton 2015-09-22 2016-02-06   \n",
       "\n",
       "                              created_at           updated_at  program_id  \\\n",
       "datetime                                                                    \n",
       "2018-01-26 09:55:03  2016-06-14 19:52:26  2016-06-14 19:52:26         1.0   \n",
       "2018-01-26 09:56:02  2016-06-14 19:52:26  2016-06-14 19:52:26         1.0   \n",
       "2018-01-26 09:56:05  2016-06-14 19:52:26  2016-06-14 19:52:26         1.0   \n",
       "\n",
       "                            program     role alumni     page  \\\n",
       "datetime                                                       \n",
       "2018-01-26 09:55:03  Full Stack PHP  student  alumn            \n",
       "2018-01-26 09:56:02  Full Stack PHP  student  alumn  java-ii   \n",
       "2018-01-26 09:56:05  Full Stack PHP  student  alumn  java-ii   \n",
       "\n",
       "                                           query  \n",
       "datetime                                          \n",
       "2018-01-26 09:55:03                               \n",
       "2018-01-26 09:56:02                               \n",
       "2018-01-26 09:56:05  object-oriented-programming  "
      ]
     },
     "execution_count": 6,
     "metadata": {},
     "output_type": "execute_result"
    }
   ],
   "source": [
    "df.head(3)"
   ]
  },
  {
   "cell_type": "code",
   "execution_count": null,
   "id": "cda1206a",
   "metadata": {},
   "outputs": [],
   "source": []
  },
  {
   "cell_type": "markdown",
   "id": "08bbcc8b",
   "metadata": {},
   "source": [
    "# Question 1 & 2 & 7 & 6"
   ]
  },
  {
   "cell_type": "markdown",
   "id": "8d89a00e",
   "metadata": {},
   "source": [
    "### 1.Which lesson appears to attract the most traffic consistently across cohorts (per program)?"
   ]
  },
  {
   "cell_type": "code",
   "execution_count": null,
   "id": "8a342826",
   "metadata": {},
   "outputs": [],
   "source": []
  },
  {
   "cell_type": "markdown",
   "id": "202d9b6b",
   "metadata": {},
   "source": [
    "_*for visualization please look at tableau chart below_ "
   ]
  },
  {
   "cell_type": "markdown",
   "id": "65fd0077",
   "metadata": {},
   "source": [
    "### 2. Is there a cohort that referred to a lesson significantly more than other cohorts seemed to gloss over?"
   ]
  },
  {
   "cell_type": "code",
   "execution_count": null,
   "id": "ef91ae92",
   "metadata": {},
   "outputs": [],
   "source": []
  },
  {
   "cell_type": "markdown",
   "id": "c337efb5",
   "metadata": {},
   "source": [
    "_*for visualization please look at tableau chart below_ "
   ]
  },
  {
   "cell_type": "markdown",
   "id": "438fe5a7",
   "metadata": {},
   "source": [
    "\n",
    "\n",
    "### 7. Which lessons are least accessed?"
   ]
  },
  {
   "cell_type": "code",
   "execution_count": null,
   "id": "21508989",
   "metadata": {},
   "outputs": [],
   "source": []
  },
  {
   "cell_type": "markdown",
   "id": "aff22bec",
   "metadata": {},
   "source": [
    "_*for visualization please look at tableau chart below_  "
   ]
  },
  {
   "cell_type": "markdown",
   "id": "0ce15208",
   "metadata": {},
   "source": [
    "\n",
    "\n",
    "### 6. What topics are grads continuing to reference after graduation and into their jobs (for each program)?"
   ]
  },
  {
   "cell_type": "markdown",
   "id": "a506abb5",
   "metadata": {},
   "source": [
    "After graduation these are the programs that are mostly viseted by the three diffrent programs\n",
    "\n",
    "- `Full Stack Java`- spring, javascript-i, html-css, mysql\n",
    "- `Full Stack PHP` - Content, javascript-i, html -css, spring\n",
    "- `Data science`- classification, fundimentals, sql, python\n",
    "\n",
    "\n",
    "_Visualization Guidance: please click on dashboard 2 to see the valizations_"
   ]
  },
  {
   "cell_type": "code",
   "execution_count": 24,
   "id": "afe350a7",
   "metadata": {},
   "outputs": [
    {
     "data": {
      "text/html": [
       "<div class='tableauPlaceholder' id='viz1661360022955' style='position: relative'><noscript><a href='#'><img alt=' ' src='https:&#47;&#47;public.tableau.com&#47;static&#47;images&#47;Co&#47;CodeupLogs&#47;Dashboard1&#47;1_rss.png' style='border: none' /></a></noscript><object class='tableauViz'  style='display:none;'><param name='host_url' value='https%3A%2F%2Fpublic.tableau.com%2F' /> <param name='embed_code_version' value='3' /> <param name='site_root' value='' /><param name='name' value='CodeupLogs&#47;Dashboard1' /><param name='tabs' value='yes' /><param name='toolbar' value='yes' /><param name='static_image' value='https:&#47;&#47;public.tableau.com&#47;static&#47;images&#47;Co&#47;CodeupLogs&#47;Dashboard1&#47;1.png' /> <param name='animate_transition' value='yes' /><param name='display_static_image' value='yes' /><param name='display_spinner' value='yes' /><param name='display_overlay' value='yes' /><param name='display_count' value='yes' /><param name='language' value='en-US' /><param name='filter' value='publish=yes' /></object></div>                <script type='text/javascript'>                    var divElement = document.getElementById('viz1661360022955');                    var vizElement = divElement.getElementsByTagName('object')[0];                    if ( divElement.offsetWidth > 800 ) { vizElement.style.width='100%';vizElement.style.height=(divElement.offsetWidth*0.75)+'px';} else if ( divElement.offsetWidth > 500 ) { vizElement.style.width='100%';vizElement.style.height=(divElement.offsetWidth*0.75)+'px';} else { vizElement.style.width='100%';vizElement.style.minHeight='1800px';vizElement.style.maxHeight=(divElement.offsetWidth*1.77)+'px';}                     var scriptElement = document.createElement('script');                    scriptElement.src = 'https://public.tableau.com/javascripts/api/viz_v1.js';                    vizElement.parentNode.insertBefore(scriptElement, vizElement);                </script>\n"
      ],
      "text/plain": [
       "<IPython.core.display.HTML object>"
      ]
     },
     "metadata": {},
     "output_type": "display_data"
    }
   ],
   "source": [
    "%%html\n",
    "<div class='tableauPlaceholder' id='viz1661360022955' style='position: relative'><noscript><a href='#'><img alt=' ' src='https:&#47;&#47;public.tableau.com&#47;static&#47;images&#47;Co&#47;CodeupLogs&#47;Dashboard1&#47;1_rss.png' style='border: none' /></a></noscript><object class='tableauViz'  style='display:none;'><param name='host_url' value='https%3A%2F%2Fpublic.tableau.com%2F' /> <param name='embed_code_version' value='3' /> <param name='site_root' value='' /><param name='name' value='CodeupLogs&#47;Dashboard1' /><param name='tabs' value='yes' /><param name='toolbar' value='yes' /><param name='static_image' value='https:&#47;&#47;public.tableau.com&#47;static&#47;images&#47;Co&#47;CodeupLogs&#47;Dashboard1&#47;1.png' /> <param name='animate_transition' value='yes' /><param name='display_static_image' value='yes' /><param name='display_spinner' value='yes' /><param name='display_overlay' value='yes' /><param name='display_count' value='yes' /><param name='language' value='en-US' /><param name='filter' value='publish=yes' /></object></div>                <script type='text/javascript'>                    var divElement = document.getElementById('viz1661360022955');                    var vizElement = divElement.getElementsByTagName('object')[0];                    if ( divElement.offsetWidth > 800 ) { vizElement.style.width='100%';vizElement.style.height=(divElement.offsetWidth*0.75)+'px';} else if ( divElement.offsetWidth > 500 ) { vizElement.style.width='100%';vizElement.style.height=(divElement.offsetWidth*0.75)+'px';} else { vizElement.style.width='100%';vizElement.style.minHeight='1800px';vizElement.style.maxHeight=(divElement.offsetWidth*1.77)+'px';}                     var scriptElement = document.createElement('script');                    scriptElement.src = 'https://public.tableau.com/javascripts/api/viz_v1.js';                    vizElement.parentNode.insertBefore(scriptElement, vizElement);                </script>\n"
   ]
  },
  {
   "cell_type": "markdown",
   "id": "fde8f98a",
   "metadata": {},
   "source": [
    "# Question 3 \n",
    "\n",
    "### Are there students who, when active, hardly access the curriculum? \n",
    "### If so, what information do you have about these students? \n"
   ]
  },
  {
   "cell_type": "markdown",
   "id": "570842e2",
   "metadata": {},
   "source": [
    "For this question we assummed that \"active students\" means students who are currenly students and not \"alumni\". This is an exploration of the students who only access the curriculm less than 10 times while currently being a student.\n"
   ]
  },
  {
   "cell_type": "code",
   "execution_count": 7,
   "id": "25d210ad",
   "metadata": {},
   "outputs": [],
   "source": [
    "#starting by removing all the alumni and creating a new dataframe \n",
    "active_students_df = df.loc[df[\"alumni\"] != 'alumn']\n"
   ]
  },
  {
   "cell_type": "code",
   "execution_count": 17,
   "id": "13413bdf",
   "metadata": {},
   "outputs": [],
   "source": [
    "active_id = active_students_df.groupby([\"user_id\"])[\"user_id\"].count()"
   ]
  },
  {
   "cell_type": "markdown",
   "id": "367dae49",
   "metadata": {},
   "source": [
    "- Ten is an arbituary number, we could have chosen any other number but we wanted to see the students who hardly view the curriculum "
   ]
  },
  {
   "cell_type": "code",
   "execution_count": 9,
   "id": "c5f45f2f",
   "metadata": {
    "scrolled": true
   },
   "outputs": [
    {
     "data": {
      "text/plain": [
       "user_id\n",
       "62     4\n",
       "89     3\n",
       "176    3\n",
       "278    4\n",
       "388    8\n",
       "539    5\n",
       "619    1\n",
       "812    7\n",
       "832    3\n",
       "879    1\n",
       "918    1\n",
       "940    1\n",
       "956    6\n",
       "Name: user_id, dtype: int64"
      ]
     },
     "execution_count": 9,
     "metadata": {},
     "output_type": "execute_result"
    }
   ],
   "source": [
    "#This is the list of students id's who are viewing the curriculum less than 10 times\n",
    "less_active_id = active_students_df.groupby([\"user_id\"])[\"user_id\"].count()[active_students_df.groupby([\"user_id\"])[\"user_id\"].count()<10]\n",
    "less_active_id"
   ]
  },
  {
   "cell_type": "markdown",
   "id": "9f4688fc",
   "metadata": {},
   "source": [
    "- There are 13 current students who view the curriculum less than ten times "
   ]
  },
  {
   "cell_type": "code",
   "execution_count": 16,
   "id": "cb079a96",
   "metadata": {},
   "outputs": [],
   "source": [
    "least_active_users_df = active_students_df[active_students_df.user_id.isin(less_active_id.index)]"
   ]
  },
  {
   "cell_type": "code",
   "execution_count": 14,
   "id": "ee92e0a8",
   "metadata": {},
   "outputs": [
    {
     "data": {
      "text/plain": [
       "<AxesSubplot:xlabel='user_id', ylabel='count'>"
      ]
     },
     "execution_count": 14,
     "metadata": {},
     "output_type": "execute_result"
    },
    {
     "data": {
      "image/png": "[encoded data removed]",
      "text/plain": [
       "<Figure size 720x288 with 1 Axes>"
      ]
     },
     "metadata": {
      "needs_background": "light"
     },
     "output_type": "display_data"
    }
   ],
   "source": [
    "#these are the user Id's of the students that hardly view the curriculum \n",
    "plt.figure(figsize=(10,4))\n",
    "sns.countplot(x = least_active_users_df['user_id'])"
   ]
  },
  {
   "cell_type": "code",
   "execution_count": 21,
   "id": "044e2a89",
   "metadata": {},
   "outputs": [
    {
     "data": {
      "text/plain": [
       "Text(0, 0.5, 'Count of Visits')"
      ]
     },
     "execution_count": 21,
     "metadata": {},
     "output_type": "execute_result"
    },
    {
     "data": {
      "image/png": "[encoded data removed]",
      "text/plain": [
       "<Figure size 720x288 with 1 Axes>"
      ]
     },
     "metadata": {
      "needs_background": "light"
     },
     "output_type": "display_data"
    }
   ],
   "source": [
    "#These are all the cohorts that have students who view the curruculum less than 10 times\n",
    "plt.figure(figsize=(10,4))\n",
    "sns.countplot(x = least_active_users_df['cohort'])\n",
    "plt.title('Number of curriculum visits per Cohort',size=14)\n",
    "plt.ylabel('Count of Visits')"
   ]
  },
  {
   "cell_type": "code",
   "execution_count": 23,
   "id": "0885cc87",
   "metadata": {},
   "outputs": [
    {
     "data": {
      "text/html": [
       "<div>\n",
       "<style scoped>\n",
       "    .dataframe tbody tr th:only-of-type {\n",
       "        vertical-align: middle;\n",
       "    }\n",
       "\n",
       "    .dataframe tbody tr th {\n",
       "        vertical-align: top;\n",
       "    }\n",
       "\n",
       "    .dataframe thead th {\n",
       "        text-align: right;\n",
       "    }\n",
       "</style>\n",
       "<table border=\"1\" class=\"dataframe\">\n",
       "  <thead>\n",
       "    <tr style=\"text-align: right;\">\n",
       "      <th></th>\n",
       "      <th>endpoint</th>\n",
       "      <th>user_id</th>\n",
       "      <th>cohort_id</th>\n",
       "      <th>ip</th>\n",
       "      <th>cohort</th>\n",
       "      <th>slack</th>\n",
       "      <th>start_date</th>\n",
       "      <th>end_date</th>\n",
       "      <th>created_at</th>\n",
       "      <th>updated_at</th>\n",
       "      <th>program_id</th>\n",
       "      <th>program</th>\n",
       "      <th>role</th>\n",
       "      <th>alumni</th>\n",
       "      <th>page</th>\n",
       "      <th>query</th>\n",
       "    </tr>\n",
       "    <tr>\n",
       "      <th>datetime</th>\n",
       "      <th></th>\n",
       "      <th></th>\n",
       "      <th></th>\n",
       "      <th></th>\n",
       "      <th></th>\n",
       "      <th></th>\n",
       "      <th></th>\n",
       "      <th></th>\n",
       "      <th></th>\n",
       "      <th></th>\n",
       "      <th></th>\n",
       "      <th></th>\n",
       "      <th></th>\n",
       "      <th></th>\n",
       "      <th></th>\n",
       "      <th></th>\n",
       "    </tr>\n",
       "  </thead>\n",
       "  <tbody>\n",
       "    <tr>\n",
       "      <th>2018-01-29 13:08:55</th>\n",
       "      <td>/</td>\n",
       "      <td>62</td>\n",
       "      <td>NaN</td>\n",
       "      <td>70.123.209.40</td>\n",
       "      <td>NaN</td>\n",
       "      <td>NaN</td>\n",
       "      <td>NaT</td>\n",
       "      <td>NaT</td>\n",
       "      <td>NaN</td>\n",
       "      <td>NaN</td>\n",
       "      <td>NaN</td>\n",
       "      <td>NaN</td>\n",
       "      <td>student</td>\n",
       "      <td>current</td>\n",
       "      <td></td>\n",
       "      <td></td>\n",
       "    </tr>\n",
       "    <tr>\n",
       "      <th>2018-01-29 13:08:57</th>\n",
       "      <td>java-ii</td>\n",
       "      <td>62</td>\n",
       "      <td>NaN</td>\n",
       "      <td>70.123.209.40</td>\n",
       "      <td>NaN</td>\n",
       "      <td>NaN</td>\n",
       "      <td>NaT</td>\n",
       "      <td>NaT</td>\n",
       "      <td>NaN</td>\n",
       "      <td>NaN</td>\n",
       "      <td>NaN</td>\n",
       "      <td>NaN</td>\n",
       "      <td>student</td>\n",
       "      <td>current</td>\n",
       "      <td>java-ii</td>\n",
       "      <td></td>\n",
       "    </tr>\n",
       "    <tr>\n",
       "      <th>2018-01-29 13:09:01</th>\n",
       "      <td>java-iii</td>\n",
       "      <td>62</td>\n",
       "      <td>NaN</td>\n",
       "      <td>70.123.209.40</td>\n",
       "      <td>NaN</td>\n",
       "      <td>NaN</td>\n",
       "      <td>NaT</td>\n",
       "      <td>NaT</td>\n",
       "      <td>NaN</td>\n",
       "      <td>NaN</td>\n",
       "      <td>NaN</td>\n",
       "      <td>NaN</td>\n",
       "      <td>student</td>\n",
       "      <td>current</td>\n",
       "      <td>java-iii</td>\n",
       "      <td></td>\n",
       "    </tr>\n",
       "    <tr>\n",
       "      <th>2018-01-29 13:09:14</th>\n",
       "      <td>spring</td>\n",
       "      <td>62</td>\n",
       "      <td>NaN</td>\n",
       "      <td>70.123.209.40</td>\n",
       "      <td>NaN</td>\n",
       "      <td>NaN</td>\n",
       "      <td>NaT</td>\n",
       "      <td>NaT</td>\n",
       "      <td>NaN</td>\n",
       "      <td>NaN</td>\n",
       "      <td>NaN</td>\n",
       "      <td>NaN</td>\n",
       "      <td>student</td>\n",
       "      <td>current</td>\n",
       "      <td>spring</td>\n",
       "      <td></td>\n",
       "    </tr>\n",
       "    <tr>\n",
       "      <th>2018-02-06 09:07:47</th>\n",
       "      <td>/</td>\n",
       "      <td>89</td>\n",
       "      <td>NaN</td>\n",
       "      <td>12.43.239.98</td>\n",
       "      <td>NaN</td>\n",
       "      <td>NaN</td>\n",
       "      <td>NaT</td>\n",
       "      <td>NaT</td>\n",
       "      <td>NaN</td>\n",
       "      <td>NaN</td>\n",
       "      <td>NaN</td>\n",
       "      <td>NaN</td>\n",
       "      <td>student</td>\n",
       "      <td>current</td>\n",
       "      <td></td>\n",
       "      <td></td>\n",
       "    </tr>\n",
       "    <tr>\n",
       "      <th>2018-02-06 09:07:55</th>\n",
       "      <td>java-i</td>\n",
       "      <td>89</td>\n",
       "      <td>NaN</td>\n",
       "      <td>12.43.239.98</td>\n",
       "      <td>NaN</td>\n",
       "      <td>NaN</td>\n",
       "      <td>NaT</td>\n",
       "      <td>NaT</td>\n",
       "      <td>NaN</td>\n",
       "      <td>NaN</td>\n",
       "      <td>NaN</td>\n",
       "      <td>NaN</td>\n",
       "      <td>student</td>\n",
       "      <td>current</td>\n",
       "      <td>java-i</td>\n",
       "      <td></td>\n",
       "    </tr>\n",
       "    <tr>\n",
       "      <th>2018-02-06 09:08:02</th>\n",
       "      <td>java-i/introduction-to-java</td>\n",
       "      <td>89</td>\n",
       "      <td>NaN</td>\n",
       "      <td>12.43.239.98</td>\n",
       "      <td>NaN</td>\n",
       "      <td>NaN</td>\n",
       "      <td>NaT</td>\n",
       "      <td>NaT</td>\n",
       "      <td>NaN</td>\n",
       "      <td>NaN</td>\n",
       "      <td>NaN</td>\n",
       "      <td>NaN</td>\n",
       "      <td>student</td>\n",
       "      <td>current</td>\n",
       "      <td>java-i</td>\n",
       "      <td>introduction-to-java</td>\n",
       "    </tr>\n",
       "    <tr>\n",
       "      <th>2018-05-04 13:44:51</th>\n",
       "      <td>spring/fundamentals/relationships</td>\n",
       "      <td>176</td>\n",
       "      <td>NaN</td>\n",
       "      <td>108.220.103.204</td>\n",
       "      <td>NaN</td>\n",
       "      <td>NaN</td>\n",
       "      <td>NaT</td>\n",
       "      <td>NaT</td>\n",
       "      <td>NaN</td>\n",
       "      <td>NaN</td>\n",
       "      <td>NaN</td>\n",
       "      <td>NaN</td>\n",
       "      <td>student</td>\n",
       "      <td>current</td>\n",
       "      <td>spring</td>\n",
       "      <td>fundamentals</td>\n",
       "    </tr>\n",
       "    <tr>\n",
       "      <th>2018-05-04 13:44:58</th>\n",
       "      <td>/</td>\n",
       "      <td>176</td>\n",
       "      <td>NaN</td>\n",
       "      <td>108.220.103.204</td>\n",
       "      <td>NaN</td>\n",
       "      <td>NaN</td>\n",
       "      <td>NaT</td>\n",
       "      <td>NaT</td>\n",
       "      <td>NaN</td>\n",
       "      <td>NaN</td>\n",
       "      <td>NaN</td>\n",
       "      <td>NaN</td>\n",
       "      <td>student</td>\n",
       "      <td>current</td>\n",
       "      <td></td>\n",
       "      <td></td>\n",
       "    </tr>\n",
       "    <tr>\n",
       "      <th>2018-05-04 13:45:00</th>\n",
       "      <td>html-css</td>\n",
       "      <td>176</td>\n",
       "      <td>NaN</td>\n",
       "      <td>108.220.103.204</td>\n",
       "      <td>NaN</td>\n",
       "      <td>NaN</td>\n",
       "      <td>NaT</td>\n",
       "      <td>NaT</td>\n",
       "      <td>NaN</td>\n",
       "      <td>NaN</td>\n",
       "      <td>NaN</td>\n",
       "      <td>NaN</td>\n",
       "      <td>student</td>\n",
       "      <td>current</td>\n",
       "      <td>html-css</td>\n",
       "      <td></td>\n",
       "    </tr>\n",
       "  </tbody>\n",
       "</table>\n",
       "</div>"
      ],
      "text/plain": [
       "                                              endpoint  user_id  cohort_id  \\\n",
       "datetime                                                                     \n",
       "2018-01-29 13:08:55                                  /       62        NaN   \n",
       "2018-01-29 13:08:57                            java-ii       62        NaN   \n",
       "2018-01-29 13:09:01                           java-iii       62        NaN   \n",
       "2018-01-29 13:09:14                             spring       62        NaN   \n",
       "2018-02-06 09:07:47                                  /       89        NaN   \n",
       "2018-02-06 09:07:55                             java-i       89        NaN   \n",
       "2018-02-06 09:08:02        java-i/introduction-to-java       89        NaN   \n",
       "2018-05-04 13:44:51  spring/fundamentals/relationships      176        NaN   \n",
       "2018-05-04 13:44:58                                  /      176        NaN   \n",
       "2018-05-04 13:45:00                           html-css      176        NaN   \n",
       "\n",
       "                                  ip cohort slack start_date end_date  \\\n",
       "datetime                                                                \n",
       "2018-01-29 13:08:55    70.123.209.40    NaN   NaN        NaT      NaT   \n",
       "2018-01-29 13:08:57    70.123.209.40    NaN   NaN        NaT      NaT   \n",
       "2018-01-29 13:09:01    70.123.209.40    NaN   NaN        NaT      NaT   \n",
       "2018-01-29 13:09:14    70.123.209.40    NaN   NaN        NaT      NaT   \n",
       "2018-02-06 09:07:47     12.43.239.98    NaN   NaN        NaT      NaT   \n",
       "2018-02-06 09:07:55     12.43.239.98    NaN   NaN        NaT      NaT   \n",
       "2018-02-06 09:08:02     12.43.239.98    NaN   NaN        NaT      NaT   \n",
       "2018-05-04 13:44:51  108.220.103.204    NaN   NaN        NaT      NaT   \n",
       "2018-05-04 13:44:58  108.220.103.204    NaN   NaN        NaT      NaT   \n",
       "2018-05-04 13:45:00  108.220.103.204    NaN   NaN        NaT      NaT   \n",
       "\n",
       "                    created_at updated_at  program_id program     role  \\\n",
       "datetime                                                                 \n",
       "2018-01-29 13:08:55        NaN        NaN         NaN     NaN  student   \n",
       "2018-01-29 13:08:57        NaN        NaN         NaN     NaN  student   \n",
       "2018-01-29 13:09:01        NaN        NaN         NaN     NaN  student   \n",
       "2018-01-29 13:09:14        NaN        NaN         NaN     NaN  student   \n",
       "2018-02-06 09:07:47        NaN        NaN         NaN     NaN  student   \n",
       "2018-02-06 09:07:55        NaN        NaN         NaN     NaN  student   \n",
       "2018-02-06 09:08:02        NaN        NaN         NaN     NaN  student   \n",
       "2018-05-04 13:44:51        NaN        NaN         NaN     NaN  student   \n",
       "2018-05-04 13:44:58        NaN        NaN         NaN     NaN  student   \n",
       "2018-05-04 13:45:00        NaN        NaN         NaN     NaN  student   \n",
       "\n",
       "                      alumni      page                 query  \n",
       "datetime                                                      \n",
       "2018-01-29 13:08:55  current                                  \n",
       "2018-01-29 13:08:57  current   java-ii                        \n",
       "2018-01-29 13:09:01  current  java-iii                        \n",
       "2018-01-29 13:09:14  current    spring                        \n",
       "2018-02-06 09:07:47  current                                  \n",
       "2018-02-06 09:07:55  current    java-i                        \n",
       "2018-02-06 09:08:02  current    java-i  introduction-to-java  \n",
       "2018-05-04 13:44:51  current    spring          fundamentals  \n",
       "2018-05-04 13:44:58  current                                  \n",
       "2018-05-04 13:45:00  current  html-css                        "
      ]
     },
     "execution_count": 23,
     "metadata": {},
     "output_type": "execute_result"
    }
   ],
   "source": [
    "least_active_users_df.head(10)\n",
    "#there are three students who only have "
   ]
  },
  {
   "cell_type": "markdown",
   "id": "e04c9edd",
   "metadata": {},
   "source": [
    "### Answer & Recomendation "
   ]
  },
  {
   "cell_type": "markdown",
   "id": "097f2f3a",
   "metadata": {},
   "source": [
    " - There are 13 students who are all part of the `Full Stack - Java Script`who have viewd the curriculum less than ten times.\n",
    " \n",
    " - These are students in cohorts: \n",
    "  - Voyageurs \n",
    "  - Andromeda\n",
    "  - Europa\n",
    "  - Ganymede \n",
    "  - Hyperion\n",
    "  - Jupiter\n",
    "  - Marco\n",
    "  - Neptune \n",
    "  - Oberon.\n",
    " - There are 3 users in this list with hardly any infromation, the only information is the ip address, user id, and endpoint\n",
    " \n",
    " - Looks like we need more help looking into these three suspicios ip's\n",
    "     - 12.43.239.98   \n",
    "       - from user_id 89\n",
    "     - 108.220.103.204  \n",
    "       - from user_id 176\n",
    "     - 70.123.209.40   \n",
    "       - from user_id 62"
   ]
  },
  {
   "cell_type": "code",
   "execution_count": null,
   "id": "81bbf6ab",
   "metadata": {},
   "outputs": [],
   "source": []
  },
  {
   "cell_type": "markdown",
   "id": "dcac7b52",
   "metadata": {},
   "source": [
    "# Question 4 \n",
    "\n",
    "### Is there any suspicious activity, such as users/machines/etc accessing the curriculum who shouldn’t be? Does it appear that any web-scraping is happening? Are there any suspicious IP addresses?"
   ]
  },
  {
   "cell_type": "code",
   "execution_count": null,
   "id": "669d4d75",
   "metadata": {},
   "outputs": [],
   "source": []
  },
  {
   "cell_type": "code",
   "execution_count": null,
   "id": "872b399b",
   "metadata": {},
   "outputs": [],
   "source": []
  },
  {
   "cell_type": "code",
   "execution_count": null,
   "id": "db7fac69",
   "metadata": {},
   "outputs": [],
   "source": []
  },
  {
   "cell_type": "markdown",
   "id": "d7b426cc",
   "metadata": {},
   "source": [
    "# Question 5 "
   ]
  },
  {
   "cell_type": "markdown",
   "id": "0e2bc9d9",
   "metadata": {},
   "source": [
    "### At some point in 2019, the ability for students and alumni to access both curriculums (web dev to ds, ds to web dev) should have been shut off. Do you see any evidence of that happening? Did it happen before?\n"
   ]
  },
  {
   "cell_type": "code",
   "execution_count": null,
   "id": "eca39f4e",
   "metadata": {},
   "outputs": [],
   "source": []
  },
  {
   "cell_type": "markdown",
   "id": "b6f6ffe6",
   "metadata": {},
   "source": [
    "## Summary and Main Takeaways "
   ]
  },
  {
   "cell_type": "code",
   "execution_count": null,
   "id": "ec3f2d59",
   "metadata": {},
   "outputs": [],
   "source": []
  },
  {
   "cell_type": "code",
   "execution_count": null,
   "id": "b26be660",
   "metadata": {},
   "outputs": [],
   "source": []
  },
  {
   "cell_type": "code",
   "execution_count": null,
   "id": "dfb14951",
   "metadata": {},
   "outputs": [],
   "source": []
  },
  {
   "cell_type": "code",
   "execution_count": null,
   "id": "4caea367",
   "metadata": {},
   "outputs": [],
   "source": []
  }
 ],
 "metadata": {
  "kernelspec": {
   "display_name": "Python 3 (ipykernel)",
   "language": "python",
   "name": "python3"
  },
  "language_info": {
   "codemirror_mode": {
    "name": "ipython",
    "version": 3
   },
   "file_extension": ".py",
   "mimetype": "text/x-python",
   "name": "python",
   "nbconvert_exporter": "python",
   "pygments_lexer": "ipython3",
   "version": "3.9.12"
  }
 },
 "nbformat": 4,
 "nbformat_minor": 5
}
