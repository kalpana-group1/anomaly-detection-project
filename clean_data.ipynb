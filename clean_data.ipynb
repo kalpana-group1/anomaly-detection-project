{
 "cells": [
  {
   "cell_type": "code",
   "execution_count": 1,
   "id": "312d8424",
   "metadata": {
    "ExecuteTime": {
     "end_time": "2022-08-23T22:19:12.048413Z",
     "start_time": "2022-08-23T22:19:10.657833Z"
    }
   },
   "outputs": [],
   "source": [
    "import matplotlib.pyplot as plt\n",
    "import numpy as np\n",
    "import pandas as pd\n",
    "import seaborn as sns\n",
    "import os\n",
    "from sklearn import metrics\n",
    "import env\n",
    "import prep"
   ]
  },
  {
   "cell_type": "code",
   "execution_count": 2,
   "id": "21a5096d",
   "metadata": {
    "ExecuteTime": {
     "end_time": "2022-08-23T22:19:12.973762Z",
     "start_time": "2022-08-23T22:19:12.049375Z"
    }
   },
   "outputs": [],
   "source": [
    "# Acquire data from SQL database\n",
    "df=prep.acquire()"
   ]
  },
  {
   "cell_type": "code",
   "execution_count": 3,
   "id": "b486bcf4",
   "metadata": {
    "ExecuteTime": {
     "end_time": "2022-08-23T22:19:14.558331Z",
     "start_time": "2022-08-23T22:19:12.974503Z"
    }
   },
   "outputs": [],
   "source": [
    "# Prep Columns by changing dtype, indexing datetime, and creating helper columns\n",
    "df = prep.prepare_data(df)"
   ]
  },
  {
   "cell_type": "code",
   "execution_count": null,
   "id": "b63a5619",
   "metadata": {
    "ExecuteTime": {
     "start_time": "2022-08-23T22:19:10.660Z"
    }
   },
   "outputs": [],
   "source": [
    "# Split end point into pages and subpages (query)\n",
    "df['endpoint']=df['endpoint'].astype(str)\n",
    "df = pd.concat([df,  df.endpoint.apply(prep.parse_request)], axis=1)"
   ]
  },
  {
   "cell_type": "code",
   "execution_count": null,
   "id": "6a8aca7e",
   "metadata": {
    "ExecuteTime": {
     "start_time": "2022-08-23T22:19:10.663Z"
    }
   },
   "outputs": [],
   "source": [
    "#Show dataframe\n",
    "df"
   ]
  }
 ],
 "metadata": {
  "kernelspec": {
   "display_name": "Python 3 (ipykernel)",
   "language": "python",
   "name": "python3"
  },
  "language_info": {
   "codemirror_mode": {
    "name": "ipython",
    "version": 3
   },
   "file_extension": ".py",
   "mimetype": "text/x-python",
   "name": "python",
   "nbconvert_exporter": "python",
   "pygments_lexer": "ipython3",
   "version": "3.9.13"
  }
 },
 "nbformat": 4,
 "nbformat_minor": 5
}
