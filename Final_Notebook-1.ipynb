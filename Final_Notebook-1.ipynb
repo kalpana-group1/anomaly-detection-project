{
 "cells": [
  {
   "cell_type": "markdown",
   "id": "ad7b2bc0",
   "metadata": {},
   "source": [
    "# Group one: Anomoly Detection Project \n",
    "\n",
    "By: Brad Gauvin, Glady Barrios, Kevin Smith \n",
    "\n",
    "August, 25, 2022\n",
    "\n",
    "Kalpana Cohort"
   ]
  },
  {
   "cell_type": "markdown",
   "id": "56862f88",
   "metadata": {},
   "source": [
    "#### Important Libraries "
   ]
  },
  {
   "cell_type": "code",
   "execution_count": null,
   "id": "2997ebaa",
   "metadata": {},
   "outputs": [],
   "source": [
    "import matplotlib.pyplot as plt\n",
    "import numpy as np\n",
    "import pandas as pd\n",
    "import seaborn as sns\n",
    "from sklearn import metrics\n",
    "import env\n",
    "import prep\n",
    "import breakdown"
   ]
  },
  {
   "cell_type": "markdown",
   "id": "a157c32b",
   "metadata": {},
   "source": [
    "## Project Description "
   ]
  },
  {
   "cell_type": "markdown",
   "id": "b8837e97",
   "metadata": {},
   "source": [
    "We have put this notebook to answer the following email:\n",
    "\n",
    "Email to analyst:\n",
    "\n",
    "\n",
    "#### Hello,\n",
    "\n",
    "\n",
    "#### I have some questions for you that I need answered before the board meeting Thursday afternoon. My questions are listed below; however, if you discover anything else important that I didn’t think to ask, please include that as well.\n",
    "\n",
    "1. Which lesson appears to attract the most traffic consistently across cohorts (per program)?\n",
    "2. Is there a cohort that referred to a lesson significantly more than other cohorts seemed to gloss over?\n",
    "3. Are there students who, when active, hardly access the curriculum? If so, what information do you have about these students?\n",
    "4. Is there any suspicious activity, such as users/machines/etc accessing the curriculum who shouldn’t be? Does it appear that any web-scraping is happening? Are there any suspicious IP addresses?\n",
    "5. At some point in 2019, the ability for students and alumni to access both curriculums (web dev to ds, ds to web dev) should have been shut off. Do you see any evidence of that happening? Did it happen before?\n",
    "6. What topics are grads continuing to reference after graduation and into their jobs (for each program)?\n",
    "7. Which lessons are least accessed?\n",
    "8. Anything else I should be aware of?\n"
   ]
  },
  {
   "cell_type": "markdown",
   "id": "d1ce8c3d",
   "metadata": {},
   "source": [
    "----"
   ]
  },
  {
   "cell_type": "markdown",
   "id": "08b03674",
   "metadata": {},
   "source": [
    "## Project Goal "
   ]
  },
  {
   "cell_type": "markdown",
   "id": "23c5cdbe",
   "metadata": {},
   "source": [
    "Our project goal is to answer at least five of the questions asked in this email before our deadline so that our representive will have this data avalible in a timely manner. "
   ]
  },
  {
   "cell_type": "markdown",
   "id": "e36fdaae",
   "metadata": {},
   "source": [
    "---"
   ]
  },
  {
   "cell_type": "markdown",
   "id": "805bac87",
   "metadata": {},
   "source": [
    "## Executive Summary "
   ]
  },
  {
   "cell_type": "markdown",
   "id": "00462707",
   "metadata": {},
   "source": [
    "#### _1. Which lesson appears to attract the most traffic consistently across cohorts (per program)?_\n",
    "\n",
    "\n",
    "Overall Javascript- i is the most visited lesson\n",
    "\n",
    "- By program:*\n",
    "- Data Science: Fundamentals\n",
    "- Front-End(no longer offered): Content\n",
    "- Full stack (Java): Javascript- i\n",
    "- Full stack (PhP): content \n",
    "\n",
    "#### _2. Is there a cohort that referred to a lesson significantly more than other cohorts seemed to gloss over?_\n",
    "\n",
    "Each program generally looks at different lesson sets.\n",
    "\n",
    "Thus, it's helpful to answer this question by program.\n",
    "- Data Science Cohort Darden accessed Classification, SQL, and Fundamentals Significantly more than other Cohorts\n",
    "- Full Stack(Java) cohort Cerves accessed javascript-i more, but not significantly more visually.\n",
    "- Full Stack (PHP) cohort Kings accessed content more than other cohorts, but lassen accessed index.html more than any other cohort\n",
    "\n",
    "#### _3. Are there students who, when active, hardly access the curriculum? If so, what information do you have about these students?_\n",
    "\n",
    "For this question we assummed that \"active students\" means students who are currenly students and not \"alumni\".\n",
    "This is an exploration of the students who only access the curriculm less than 10 times \n",
    "\n",
    " - Students who access the curriculum less than 10 times are all from Full Stack - Java Script\n",
    " - These are students in cohorts: Voyageurs, Andromeda, Europa, Ganymede, Hyperion, Jupiter, Marco, Neptune and Oberon.\n",
    " - These two cohorts with the largest ammount of students that do not visit the curriculum as often are Andromeda and Hyperion \n",
    "\n",
    "#### _4. Is there any suspicious activity, such as users/machines/etc accessing the curriculum who shouldn’t be? Does it appear that any web-scraping is happening? Are there any suspicious IP addresses?_\n",
    "\n",
    "`The short answer is yes to both.`\n",
    "\n",
    "First our breakdown function calculates the percentage of all the endpoints available that each user_id has accessed. The average user accesses 10% of the sites. So, we set the bar for suspiscous activity at double the average; meaning that any user that has accessed more than 20% of the endpoints is flagged as suspiscious.\n",
    "\n",
    "The second way we define suspiscious activity is if the user is missing a cohort_id. This could be an input error, or it could be something nefarious. Either way, further exploration of these user_ids is warranted.\n",
    "\n",
    "The final way we define suspiscious activity is the number of different ip addresses that the user is associated with. The average user is associated with 10 different ip addresses. So, for the sake of simplicity we set the bar for suspiscious at double the average, and anyone who has accessed the site from more than 20 ip addresses is flagged as suspiscious for further investigation.\n",
    "\n",
    "#### _5. At some point in 2019, the ability for students and alumni to access both curriculums (web dev to ds, ds to web dev) should have been shut off. Do you see any evidence of that happening? Did it happen before?_\n",
    "\n",
    "`In short, yes it is still happening, and yes it happened before.`\n",
    "\n",
    "A look into user number 11 shows that there is evidence of the user accessing endpoints that belong to a curriculum that this user did not pay for as recently as 2021. The large spikes in activity coupled with the fact that many of the data science endpoints have only been accessed once suggests that there is webscraping going on. however, further data is needed to be certain of the type of activity that is happening. They could have paid for the course, but not been reclassified as a data science student. Without access to payment records, and more time.\n",
    "\n",
    "\n",
    "#### _6. What topics are grads continuing to reference after graduation and into their jobs (for each program)?_\n",
    "- `Full Stack Java`- spring, javascript-i, html-css, mysql\n",
    "- `Full Stack PHP` - Content, javascript-i, html -css, spring\n",
    "- `Data science`- classification, fundimentals, sql, python\n",
    "\n",
    "#### _7. Which lessons are least accessed?_\n",
    "\n",
    "-Overall the least accessed lesson is examples (behind searches and table of contents)\n",
    "\n",
    "By program the least accessed lessons are:\n",
    "- Data Science: classification\n",
    "- Front-End(no longer offered): Classification\n",
    "- Full stack (Java): Javascript and Classification/Slides\n",
    "- Full stack (PhP): Fundamentals and SQL\n"
   ]
  },
  {
   "cell_type": "markdown",
   "id": "e967a4b7",
   "metadata": {},
   "source": [
    "----"
   ]
  },
  {
   "cell_type": "markdown",
   "id": "f97ea5e3",
   "metadata": {},
   "source": [
    "# Aquire and Prepare"
   ]
  },
  {
   "cell_type": "markdown",
   "id": "868aefae",
   "metadata": {},
   "source": [
    "Aquire"
   ]
  },
  {
   "cell_type": "code",
   "execution_count": null,
   "id": "b579c575",
   "metadata": {},
   "outputs": [],
   "source": [
    "df=prep.acquire()"
   ]
  },
  {
   "cell_type": "markdown",
   "id": "a47de063",
   "metadata": {},
   "source": [
    "Prepare"
   ]
  },
  {
   "cell_type": "code",
   "execution_count": null,
   "id": "941f2109",
   "metadata": {},
   "outputs": [],
   "source": [
    "df = prep.prepare_data(df)"
   ]
  },
  {
   "cell_type": "code",
   "execution_count": null,
   "id": "946f03a0",
   "metadata": {},
   "outputs": [],
   "source": [
    "# Split end point into pages and subpages (query)\n",
    "df['endpoint']=df['endpoint'].astype(str)\n",
    "df = pd.concat([df,  df.endpoint.apply(prep.parse_request)], axis=1)"
   ]
  },
  {
   "cell_type": "code",
   "execution_count": null,
   "id": "8ac8e3e9",
   "metadata": {
    "scrolled": true
   },
   "outputs": [],
   "source": [
    "df.head(3)"
   ]
  },
  {
   "cell_type": "markdown",
   "id": "643c17a9",
   "metadata": {},
   "source": [
    "------"
   ]
  },
  {
   "cell_type": "markdown",
   "id": "08bbcc8b",
   "metadata": {},
   "source": [
    "# Question 1 & 2 & 6 & 7"
   ]
  },
  {
   "cell_type": "markdown",
   "id": "8d89a00e",
   "metadata": {},
   "source": [
    "### 1.Which lesson appears to attract the most traffic consistently across cohorts (per program)?"
   ]
  },
  {
   "cell_type": "markdown",
   "id": "d9ba7f8d",
   "metadata": {},
   "source": [
    "- Overall Javascript- i is the most visited lesson\n",
    "<br>\n",
    "<br>\n",
    "**- By program:**\n",
    "<br>\n",
    "     - Data Science: Fundamentals\n",
    "     <br>\n",
    "     - Front-End(no longer offered): Content\n",
    "     <br>\n",
    "     - Full stack (Java): Javascript- i\n",
    "     <br>\n",
    "     - Full stack (PhP): content"
   ]
  },
  {
   "cell_type": "markdown",
   "id": "202d9b6b",
   "metadata": {},
   "source": [
    "_*for visualization please look at tableau chart below_ "
   ]
  },
  {
   "cell_type": "markdown",
   "id": "65fd0077",
   "metadata": {},
   "source": [
    "### 2. Is there a cohort that referred to a lesson significantly more than other cohorts seemed to gloss over?"
   ]
  },
  {
   "cell_type": "markdown",
   "id": "ea603500",
   "metadata": {},
   "source": [
    "Each program generally looks at different lesson sets. \n",
    "- Thus, it's helpful to answer this question by program.\n",
    "- Data Science Cohort Darden accessed Classification, SQL, and Fundamentals Significantly more than other Cohorts\n",
    "- Full Stack(Java) cohort Cerves accessed javascript-i more, but not significantly more visually.\n",
    "- Full Stack (PHP) cohort Kings accessed content more than other cohorts, but lassen accessed index.html more than any other cohort"
   ]
  },
  {
   "cell_type": "markdown",
   "id": "c337efb5",
   "metadata": {},
   "source": [
    "_*for visualization please look at tableau chart below_ "
   ]
  },
  {
   "cell_type": "markdown",
   "id": "0ce15208",
   "metadata": {},
   "source": [
    "\n",
    "\n",
    "### 6. What topics are grads continuing to reference after graduation and into their jobs (for each program)?"
   ]
  },
  {
   "cell_type": "markdown",
   "id": "a506abb5",
   "metadata": {},
   "source": [
    "After graduation these are the programs that are mostly viseted by the three diffrent programs\n",
    "\n",
    "- `Full Stack Java`- spring, javascript-i, html-css, mysql\n",
    "- `Full Stack PHP` - Content, javascript-i, html -css, spring\n",
    "- `Data science`- classification, fundimentals, sql, python\n",
    "\n",
    "\n",
    "_*Visualization Guidance: please click on dashboard 2 to see the visualizations_"
   ]
  },
  {
   "cell_type": "markdown",
   "id": "438fe5a7",
   "metadata": {},
   "source": [
    "\n",
    "\n",
    "### 7. Which lessons are least accessed?"
   ]
  },
  {
   "cell_type": "markdown",
   "id": "736837f4",
   "metadata": {},
   "source": [
    "-Overall the least accessed lesson is examples (behind searches and table of contents)\n",
    "\n",
    "By program the least accessed lessons are:\n",
    "- Data Science: classification\n",
    "- Front-End(no longer offered): Classification\n",
    "- Full stack (Java): Javascript and Classification/Slides\n",
    "- Full stack (PhP): Fundamentals and SQL"
   ]
  },
  {
   "cell_type": "markdown",
   "id": "aff22bec",
   "metadata": {},
   "source": [
    "_*for visualization please look at tableau chart below_  "
   ]
  },
  {
   "cell_type": "code",
   "execution_count": null,
   "id": "afe350a7",
   "metadata": {
    "scrolled": false
   },
   "outputs": [],
   "source": [
    "%%html\n",
    "<div class='tableauPlaceholder' id='viz1661360022955' style='position: relative'><noscript><a href='#'><img alt=' ' src='https:&#47;&#47;public.tableau.com&#47;static&#47;images&#47;Co&#47;CodeupLogs&#47;Dashboard1&#47;1_rss.png' style='border: none' /></a></noscript><object class='tableauViz'  style='display:none;'><param name='host_url' value='https%3A%2F%2Fpublic.tableau.com%2F' /> <param name='embed_code_version' value='3' /> <param name='site_root' value='' /><param name='name' value='CodeupLogs&#47;Dashboard1' /><param name='tabs' value='yes' /><param name='toolbar' value='yes' /><param name='static_image' value='https:&#47;&#47;public.tableau.com&#47;static&#47;images&#47;Co&#47;CodeupLogs&#47;Dashboard1&#47;1.png' /> <param name='animate_transition' value='yes' /><param name='display_static_image' value='yes' /><param name='display_spinner' value='yes' /><param name='display_overlay' value='yes' /><param name='display_count' value='yes' /><param name='language' value='en-US' /><param name='filter' value='publish=yes' /></object></div>                <script type='text/javascript'>                    var divElement = document.getElementById('viz1661360022955');                    var vizElement = divElement.getElementsByTagName('object')[0];                    if ( divElement.offsetWidth > 800 ) { vizElement.style.width='100%';vizElement.style.height=(divElement.offsetWidth*0.75)+'px';} else if ( divElement.offsetWidth > 500 ) { vizElement.style.width='100%';vizElement.style.height=(divElement.offsetWidth*0.75)+'px';} else { vizElement.style.width='100%';vizElement.style.minHeight='1800px';vizElement.style.maxHeight=(divElement.offsetWidth*1.77)+'px';}                     var scriptElement = document.createElement('script');                    scriptElement.src = 'https://public.tableau.com/javascripts/api/viz_v1.js';                    vizElement.parentNode.insertBefore(scriptElement, vizElement);                </script>\n"
   ]
  },
  {
   "cell_type": "markdown",
   "id": "fde8f98a",
   "metadata": {},
   "source": [
    "# Question 3 \n",
    "\n",
    "### Are there students who, when active, hardly access the curriculum? \n",
    "### If so, what information do you have about these students? \n"
   ]
  },
  {
   "cell_type": "markdown",
   "id": "570842e2",
   "metadata": {},
   "source": [
    "For this question we assummed that \"active students\" means students who are currenly students and not \"alumni\". This is an exploration of the students who only access the curriculm less than 10 times while currently being a student.\n"
   ]
  },
  {
   "cell_type": "code",
   "execution_count": null,
   "id": "25d210ad",
   "metadata": {},
   "outputs": [],
   "source": [
    "#starting by removing all the alumni and creating a new dataframe \n",
    "active_students_df = df.loc[df[\"alumni\"] != 'alumn']\n"
   ]
  },
  {
   "cell_type": "code",
   "execution_count": null,
   "id": "13413bdf",
   "metadata": {},
   "outputs": [],
   "source": [
    "active_id = active_students_df.groupby([\"user_id\"])[\"user_id\"].count()"
   ]
  },
  {
   "cell_type": "markdown",
   "id": "367dae49",
   "metadata": {},
   "source": [
    "- Ten is an arbituary number, we could have chosen any other number but we wanted to see the students who hardly view the curriculum "
   ]
  },
  {
   "cell_type": "code",
   "execution_count": null,
   "id": "c5f45f2f",
   "metadata": {
    "scrolled": true
   },
   "outputs": [],
   "source": [
    "#This is the list of students id's who are viewing the curriculum less than 10 times\n",
    "less_active_id = active_students_df.groupby([\"user_id\"])[\"user_id\"].count()[active_students_df.groupby([\"user_id\"])[\"user_id\"].count()<10]\n",
    "less_active_id"
   ]
  },
  {
   "cell_type": "markdown",
   "id": "9f4688fc",
   "metadata": {},
   "source": [
    "- There are 13 current students who view the curriculum less than ten times "
   ]
  },
  {
   "cell_type": "code",
   "execution_count": null,
   "id": "cb079a96",
   "metadata": {},
   "outputs": [],
   "source": [
    "least_active_users_df = active_students_df[active_students_df.user_id.isin(less_active_id.index)]"
   ]
  },
  {
   "cell_type": "code",
   "execution_count": null,
   "id": "ee92e0a8",
   "metadata": {},
   "outputs": [],
   "source": [
    "#these are the user Id's of the students that hardly view the curriculum \n",
    "plt.figure(figsize=(10,4))\n",
    "sns.countplot(x = least_active_users_df['user_id'])"
   ]
  },
  {
   "cell_type": "code",
   "execution_count": null,
   "id": "044e2a89",
   "metadata": {},
   "outputs": [],
   "source": [
    "#These are all the cohorts that have students who view the curruculum less than 10 times\n",
    "plt.figure(figsize=(10,4))\n",
    "sns.countplot(x = least_active_users_df['cohort'])\n",
    "plt.title('Number of curriculum visits per Cohort',size=14)\n",
    "plt.ylabel('Count of Visits')"
   ]
  },
  {
   "cell_type": "code",
   "execution_count": null,
   "id": "0885cc87",
   "metadata": {},
   "outputs": [],
   "source": [
    "least_active_users_df.head(10)\n",
    "#there are three students who only have "
   ]
  },
  {
   "cell_type": "markdown",
   "id": "e04c9edd",
   "metadata": {},
   "source": [
    "### Answer & Recomendation "
   ]
  },
  {
   "cell_type": "markdown",
   "id": "097f2f3a",
   "metadata": {},
   "source": [
    " - There are 13 students who are all part of the `Full Stack - Java Script`who have viewd the curriculum less than ten times.\n",
    " \n",
    " - These are students in cohorts: \n",
    "  - Voyageurs \n",
    "  - Andromeda\n",
    "  - Europa\n",
    "  - Ganymede \n",
    "  - Hyperion\n",
    "  - Jupiter\n",
    "  - Marco\n",
    "  - Neptune \n",
    "  - Oberon.\n",
    " - There are 3 users in this list with hardly any infromation, the only information is the ip address, user id, and endpoint\n",
    " \n",
    " - Looks like we need more help looking into these three ip's could be something suspicious or just students logging in from a diffrent computer \n",
    "     - 12.43.239.98   \n",
    "       - from user_id 89\n",
    "     - 108.220.103.204  \n",
    "       - from user_id 176\n",
    "     - 70.123.209.40   \n",
    "       - from user_id 62"
   ]
  },
  {
   "cell_type": "markdown",
   "id": "130f704b",
   "metadata": {},
   "source": [
    "---"
   ]
  },
  {
   "cell_type": "markdown",
   "id": "dcac7b52",
   "metadata": {},
   "source": [
    "# Question 4 \n",
    "\n",
    "### Is there any suspicious activity, such as users/machines/etc accessing the curriculum who shouldn’t be? Does it appear that any web-scraping is happening? Are there any suspicious IP addresses?"
   ]
  },
  {
   "cell_type": "code",
   "execution_count": null,
   "id": "669d4d75",
   "metadata": {},
   "outputs": [],
   "source": [
    "breakdown.breakdown(df)"
   ]
  },
  {
   "cell_type": "markdown",
   "id": "0d174730",
   "metadata": {},
   "source": [
    "The short answer is yes to both.\n",
    "\n",
    "- First our breakdown function calculates the percentage of all the endpoints available that each user_id has accessed. The average user accesses 10% of the sites. So, we set the bar for suspiscous activity at double the average; meaning that any user that has accessed more than 20% of the endpoints is flagged as suspiscious.\n",
    "\n",
    "- The second way we define suspiscious activity is if the user is missing a cohort_id. This could be an input error, or it could be something nefarious. Either way, further exploration of these user_ids is warranted.\n",
    "\n",
    "- The final way we define suspiscious activity is the number of different ip addresses that the user is associated with. The average user is associated with 10 different ip addresses. So, for the sake of simplicity we set the bar for suspiscious at double the average, and anyone who has accessed the site from more than 20 ip addresses is flagged as suspiscious for further investigation.\n",
    "\n",
    "Next the breakdown function prints out a display of the users average monthly activity over time, the program that they are associated with, and the first and last few endpoints accessed.\n",
    "\n",
    "This will help us determine if they are potentially webscraping, and help us answer the next question."
   ]
  },
  {
   "cell_type": "markdown",
   "id": "ad55d74f",
   "metadata": {},
   "source": [
    "---"
   ]
  },
  {
   "cell_type": "markdown",
   "id": "d7b426cc",
   "metadata": {},
   "source": [
    "# Question 5 "
   ]
  },
  {
   "cell_type": "markdown",
   "id": "0e2bc9d9",
   "metadata": {},
   "source": [
    "### At some point in 2019, the ability for students and alumni to access both curriculums (web dev to ds, ds to web dev) should have been shut off. Do you see any evidence of that happening? Did it happen before?\n"
   ]
  },
  {
   "cell_type": "markdown",
   "id": "fb7e1373",
   "metadata": {},
   "source": [
    "In short, yes it is still happening, and yes it happened before.\n",
    "\n",
    "A look into user number 11 shows that there is evidence of the user accessing endpoints that belong to a curriculum that this user did not pay for as recently as 2021. The large spikes in activity coupled with the fact that many of the data science endpoints have only been accessed once suggests that there is webscraping going on. however, further data is needed to be certain of the type of activity that is happening. They could have paid for the course, but not been reclassified as a data science student. Without access to payment records, and more time."
   ]
  },
  {
   "cell_type": "markdown",
   "id": "5d712b30",
   "metadata": {},
   "source": [
    "---"
   ]
  },
  {
   "cell_type": "markdown",
   "id": "b6f6ffe6",
   "metadata": {},
   "source": [
    "## Summary "
   ]
  },
  {
   "cell_type": "markdown",
   "id": "86da75f8",
   "metadata": {},
   "source": [
    "In summary questions 1 - 7 have been answered with specific research using Juypter Notebook and Tableau \n",
    "\n",
    "Question 1, 2, 6, 7 where answered using Tableau and analizing graphs and charts to answer these very specific questions for our representative and leaders.\n",
    "\n",
    "Question 3 - was answered using jupyter notebook with the intention of only looking at students who are currently attending the course as well as students who are viewing the curriculm less than 10 times. 10 is a number that we picked since the question was asking about students who `hardly access` the curruculm. \n",
    "\n",
    "Question 4 & 5 - was answered using jupyter notebook and looking user access and user ip's."
   ]
  },
  {
   "cell_type": "code",
   "execution_count": null,
   "id": "b26be660",
   "metadata": {},
   "outputs": [],
   "source": []
  },
  {
   "cell_type": "code",
   "execution_count": null,
   "id": "dfb14951",
   "metadata": {},
   "outputs": [],
   "source": []
  },
  {
   "cell_type": "code",
   "execution_count": null,
   "id": "4caea367",
   "metadata": {},
   "outputs": [],
   "source": []
  }
 ],
 "metadata": {
  "kernelspec": {
   "display_name": "Python 3 (ipykernel)",
   "language": "python",
   "name": "python3"
  },
  "language_info": {
   "codemirror_mode": {
    "name": "ipython",
    "version": 3
   },
   "file_extension": ".py",
   "mimetype": "text/x-python",
   "name": "python",
   "nbconvert_exporter": "python",
   "pygments_lexer": "ipython3",
   "version": "3.9.12"
  }
 },
 "nbformat": 4,
 "nbformat_minor": 5
}
